{
 "cells": [
  {
   "cell_type": "code",
   "execution_count": 1,
   "id": "e875d97e",
   "metadata": {},
   "outputs": [],
   "source": [
    "import pandas as pd"
   ]
  },
  {
   "cell_type": "code",
   "execution_count": 2,
   "id": "8b53c578",
   "metadata": {},
   "outputs": [],
   "source": [
    "data = pd.read_csv('Realestate.csv')"
   ]
  },
  {
   "cell_type": "code",
   "execution_count": 3,
   "id": "312c75eb",
   "metadata": {},
   "outputs": [
    {
     "data": {
      "text/html": [
       "<div>\n",
       "<style scoped>\n",
       "    .dataframe tbody tr th:only-of-type {\n",
       "        vertical-align: middle;\n",
       "    }\n",
       "\n",
       "    .dataframe tbody tr th {\n",
       "        vertical-align: top;\n",
       "    }\n",
       "\n",
       "    .dataframe thead th {\n",
       "        text-align: right;\n",
       "    }\n",
       "</style>\n",
       "<table border=\"1\" class=\"dataframe\">\n",
       "  <thead>\n",
       "    <tr style=\"text-align: right;\">\n",
       "      <th></th>\n",
       "      <th>No</th>\n",
       "      <th>transaction</th>\n",
       "      <th>houseAge</th>\n",
       "      <th>distanceToNearestMRTstation</th>\n",
       "      <th>numberOfConvenienceStores</th>\n",
       "      <th>latitude</th>\n",
       "      <th>longitude</th>\n",
       "      <th>housePriceOfUnitArea</th>\n",
       "    </tr>\n",
       "  </thead>\n",
       "  <tbody>\n",
       "    <tr>\n",
       "      <th>0</th>\n",
       "      <td>1</td>\n",
       "      <td>2012.917</td>\n",
       "      <td>32.0</td>\n",
       "      <td>84.87882</td>\n",
       "      <td>10</td>\n",
       "      <td>24.98298</td>\n",
       "      <td>121.54024</td>\n",
       "      <td>NaN</td>\n",
       "    </tr>\n",
       "    <tr>\n",
       "      <th>1</th>\n",
       "      <td>2</td>\n",
       "      <td>2012.917</td>\n",
       "      <td>19.5</td>\n",
       "      <td>306.59470</td>\n",
       "      <td>9</td>\n",
       "      <td>24.98034</td>\n",
       "      <td>121.53951</td>\n",
       "      <td>42.2</td>\n",
       "    </tr>\n",
       "    <tr>\n",
       "      <th>2</th>\n",
       "      <td>3</td>\n",
       "      <td>2013.583</td>\n",
       "      <td>13.3</td>\n",
       "      <td>561.98450</td>\n",
       "      <td>5</td>\n",
       "      <td>24.98746</td>\n",
       "      <td>121.54391</td>\n",
       "      <td>47.3</td>\n",
       "    </tr>\n",
       "    <tr>\n",
       "      <th>3</th>\n",
       "      <td>4</td>\n",
       "      <td>2013.500</td>\n",
       "      <td>13.3</td>\n",
       "      <td>561.98450</td>\n",
       "      <td>5</td>\n",
       "      <td>24.98746</td>\n",
       "      <td>121.54391</td>\n",
       "      <td>54.8</td>\n",
       "    </tr>\n",
       "    <tr>\n",
       "      <th>4</th>\n",
       "      <td>5</td>\n",
       "      <td>2012.833</td>\n",
       "      <td>5.0</td>\n",
       "      <td>390.56840</td>\n",
       "      <td>5</td>\n",
       "      <td>24.97937</td>\n",
       "      <td>121.54245</td>\n",
       "      <td>43.1</td>\n",
       "    </tr>\n",
       "  </tbody>\n",
       "</table>\n",
       "</div>"
      ],
      "text/plain": [
       "   No  transaction  houseAge  distanceToNearestMRTstation  \\\n",
       "0   1     2012.917      32.0                     84.87882   \n",
       "1   2     2012.917      19.5                    306.59470   \n",
       "2   3     2013.583      13.3                    561.98450   \n",
       "3   4     2013.500      13.3                    561.98450   \n",
       "4   5     2012.833       5.0                    390.56840   \n",
       "\n",
       "   numberOfConvenienceStores  latitude  longitude  housePriceOfUnitArea  \n",
       "0                         10  24.98298  121.54024                   NaN  \n",
       "1                          9  24.98034  121.53951                  42.2  \n",
       "2                          5  24.98746  121.54391                  47.3  \n",
       "3                          5  24.98746  121.54391                  54.8  \n",
       "4                          5  24.97937  121.54245                  43.1  "
      ]
     },
     "execution_count": 3,
     "metadata": {},
     "output_type": "execute_result"
    }
   ],
   "source": [
    "data.head()"
   ]
  },
  {
   "cell_type": "code",
   "execution_count": 4,
   "id": "a87087b8",
   "metadata": {},
   "outputs": [
    {
     "data": {
      "text/plain": [
       "No                               int64\n",
       "transaction                    float64\n",
       "houseAge                       float64\n",
       "distanceToNearestMRTstation    float64\n",
       "numberOfConvenienceStores        int64\n",
       "latitude                       float64\n",
       "longitude                      float64\n",
       "housePriceOfUnitArea           float64\n",
       "dtype: object"
      ]
     },
     "execution_count": 4,
     "metadata": {},
     "output_type": "execute_result"
    }
   ],
   "source": [
    "data.dtypes"
   ]
  },
  {
   "cell_type": "code",
   "execution_count": 5,
   "id": "94f22c93",
   "metadata": {},
   "outputs": [
    {
     "ename": "AttributeError",
     "evalue": "'DataFrame' object has no attribute 'height'",
     "output_type": "error",
     "traceback": [
      "\u001b[1;31m---------------------------------------------------------------------------\u001b[0m",
      "\u001b[1;31mAttributeError\u001b[0m                            Traceback (most recent call last)",
      "Input \u001b[1;32mIn [5]\u001b[0m, in \u001b[0;36m<cell line: 1>\u001b[1;34m()\u001b[0m\n\u001b[1;32m----> 1\u001b[0m \u001b[43mdata\u001b[49m\u001b[38;5;241;43m.\u001b[39;49m\u001b[43mheight\u001b[49m\u001b[38;5;241m.\u001b[39mmean()\n",
      "File \u001b[1;32m~\\anaconda3\\lib\\site-packages\\pandas\\core\\generic.py:5575\u001b[0m, in \u001b[0;36mNDFrame.__getattr__\u001b[1;34m(self, name)\u001b[0m\n\u001b[0;32m   5568\u001b[0m \u001b[38;5;28;01mif\u001b[39;00m (\n\u001b[0;32m   5569\u001b[0m     name \u001b[38;5;129;01mnot\u001b[39;00m \u001b[38;5;129;01min\u001b[39;00m \u001b[38;5;28mself\u001b[39m\u001b[38;5;241m.\u001b[39m_internal_names_set\n\u001b[0;32m   5570\u001b[0m     \u001b[38;5;129;01mand\u001b[39;00m name \u001b[38;5;129;01mnot\u001b[39;00m \u001b[38;5;129;01min\u001b[39;00m \u001b[38;5;28mself\u001b[39m\u001b[38;5;241m.\u001b[39m_metadata\n\u001b[0;32m   5571\u001b[0m     \u001b[38;5;129;01mand\u001b[39;00m name \u001b[38;5;129;01mnot\u001b[39;00m \u001b[38;5;129;01min\u001b[39;00m \u001b[38;5;28mself\u001b[39m\u001b[38;5;241m.\u001b[39m_accessors\n\u001b[0;32m   5572\u001b[0m     \u001b[38;5;129;01mand\u001b[39;00m \u001b[38;5;28mself\u001b[39m\u001b[38;5;241m.\u001b[39m_info_axis\u001b[38;5;241m.\u001b[39m_can_hold_identifiers_and_holds_name(name)\n\u001b[0;32m   5573\u001b[0m ):\n\u001b[0;32m   5574\u001b[0m     \u001b[38;5;28;01mreturn\u001b[39;00m \u001b[38;5;28mself\u001b[39m[name]\n\u001b[1;32m-> 5575\u001b[0m \u001b[38;5;28;01mreturn\u001b[39;00m \u001b[38;5;28;43mobject\u001b[39;49m\u001b[38;5;241;43m.\u001b[39;49m\u001b[38;5;21;43m__getattribute__\u001b[39;49m\u001b[43m(\u001b[49m\u001b[38;5;28;43mself\u001b[39;49m\u001b[43m,\u001b[49m\u001b[43m \u001b[49m\u001b[43mname\u001b[49m\u001b[43m)\u001b[49m\n",
      "\u001b[1;31mAttributeError\u001b[0m: 'DataFrame' object has no attribute 'height'"
     ]
    }
   ],
   "source": [
    "data.height.mean()"
   ]
  },
  {
   "cell_type": "code",
   "execution_count": 6,
   "id": "127ca20e",
   "metadata": {},
   "outputs": [
    {
     "data": {
      "text/plain": [
       "17.62033492822966"
      ]
     },
     "execution_count": 6,
     "metadata": {},
     "output_type": "execute_result"
    }
   ],
   "source": [
    "data.houseAge.mean()"
   ]
  },
  {
   "cell_type": "code",
   "execution_count": 7,
   "id": "ef51b4a0",
   "metadata": {},
   "outputs": [
    {
     "data": {
      "text/plain": [
       "0      32.0\n",
       "1      19.5\n",
       "2      13.3\n",
       "3      13.3\n",
       "4       5.0\n",
       "       ... \n",
       "413    13.7\n",
       "414     5.6\n",
       "415    18.8\n",
       "416     8.1\n",
       "417     6.5\n",
       "Name: houseAge, Length: 418, dtype: float64"
      ]
     },
     "execution_count": 7,
     "metadata": {},
     "output_type": "execute_result"
    }
   ],
   "source": [
    "data.houseAge"
   ]
  },
  {
   "cell_type": "code",
   "execution_count": 8,
   "id": "baf4b3b1",
   "metadata": {},
   "outputs": [
    {
     "data": {
      "text/plain": [
       "0.0"
      ]
     },
     "execution_count": 8,
     "metadata": {},
     "output_type": "execute_result"
    }
   ],
   "source": [
    "data.houseAge.min()"
   ]
  },
  {
   "cell_type": "code",
   "execution_count": 9,
   "id": "cd671e94",
   "metadata": {},
   "outputs": [
    {
     "data": {
      "text/plain": [
       "43.8"
      ]
     },
     "execution_count": 9,
     "metadata": {},
     "output_type": "execute_result"
    }
   ],
   "source": [
    "data.houseAge.max()"
   ]
  },
  {
   "cell_type": "code",
   "execution_count": 10,
   "id": "48380a6f",
   "metadata": {},
   "outputs": [
    {
     "data": {
      "text/plain": [
       "17.62033492822966"
      ]
     },
     "execution_count": 10,
     "metadata": {},
     "output_type": "execute_result"
    }
   ],
   "source": [
    "data.houseAge.mean()"
   ]
  },
  {
   "cell_type": "code",
   "execution_count": 11,
   "id": "6f8d21ea",
   "metadata": {},
   "outputs": [
    {
     "data": {
      "text/plain": [
       "11.428348063298536"
      ]
     },
     "execution_count": 11,
     "metadata": {},
     "output_type": "execute_result"
    }
   ],
   "source": [
    "data.houseAge.std()"
   ]
  },
  {
   "cell_type": "code",
   "execution_count": 12,
   "id": "dfa5b23c",
   "metadata": {},
   "outputs": [],
   "source": [
    "houseAge = data.houseAge"
   ]
  },
  {
   "cell_type": "code",
   "execution_count": 13,
   "id": "a2526e04",
   "metadata": {},
   "outputs": [
    {
     "data": {
      "text/plain": [
       "0      1.258245\n",
       "1      0.164474\n",
       "2     -0.378037\n",
       "3     -0.378037\n",
       "4     -1.104301\n",
       "         ...   \n",
       "413   -0.343036\n",
       "414   -1.051800\n",
       "415    0.103223\n",
       "416   -0.833046\n",
       "417   -0.973048\n",
       "Name: houseAge, Length: 418, dtype: float64"
      ]
     },
     "execution_count": 13,
     "metadata": {},
     "output_type": "execute_result"
    }
   ],
   "source": [
    "norm = (houseAge - houseAge.mean()) / houseAge.std()\n",
    "norm"
   ]
  },
  {
   "cell_type": "code",
   "execution_count": 14,
   "id": "f95de6c1",
   "metadata": {},
   "outputs": [
    {
     "data": {
      "text/plain": [
       "0      0.730594\n",
       "1      0.445205\n",
       "2      0.303653\n",
       "3      0.303653\n",
       "4      0.114155\n",
       "         ...   \n",
       "413    0.312785\n",
       "414    0.127854\n",
       "415    0.429224\n",
       "416    0.184932\n",
       "417    0.148402\n",
       "Name: houseAge, Length: 418, dtype: float64"
      ]
     },
     "execution_count": 14,
     "metadata": {},
     "output_type": "execute_result"
    }
   ],
   "source": [
    "minmax = (houseAge - houseAge.min()) / (houseAge.max() - houseAge.min())\n",
    "minmax"
   ]
  },
  {
   "cell_type": "code",
   "execution_count": 15,
   "id": "5a3afc3b",
   "metadata": {},
   "outputs": [
    {
     "data": {
      "text/plain": [
       "0.0"
      ]
     },
     "execution_count": 15,
     "metadata": {},
     "output_type": "execute_result"
    }
   ],
   "source": [
    "minmax.min()"
   ]
  },
  {
   "cell_type": "code",
   "execution_count": 16,
   "id": "476f6d33",
   "metadata": {},
   "outputs": [
    {
     "data": {
      "text/plain": [
       "1.0"
      ]
     },
     "execution_count": 16,
     "metadata": {},
     "output_type": "execute_result"
    }
   ],
   "source": [
    "minmax.max()"
   ]
  },
  {
   "cell_type": "code",
   "execution_count": 17,
   "id": "2119636c",
   "metadata": {},
   "outputs": [
    {
     "data": {
      "text/html": [
       "<div>\n",
       "<style scoped>\n",
       "    .dataframe tbody tr th:only-of-type {\n",
       "        vertical-align: middle;\n",
       "    }\n",
       "\n",
       "    .dataframe tbody tr th {\n",
       "        vertical-align: top;\n",
       "    }\n",
       "\n",
       "    .dataframe thead th {\n",
       "        text-align: right;\n",
       "    }\n",
       "</style>\n",
       "<table border=\"1\" class=\"dataframe\">\n",
       "  <thead>\n",
       "    <tr style=\"text-align: right;\">\n",
       "      <th></th>\n",
       "      <th>No</th>\n",
       "      <th>transaction</th>\n",
       "      <th>houseAge</th>\n",
       "      <th>distanceToNearestMRTstation</th>\n",
       "      <th>numberOfConvenienceStores</th>\n",
       "      <th>latitude</th>\n",
       "      <th>longitude</th>\n",
       "      <th>housePriceOfUnitArea</th>\n",
       "    </tr>\n",
       "  </thead>\n",
       "  <tbody>\n",
       "    <tr>\n",
       "      <th>0</th>\n",
       "      <td>1</td>\n",
       "      <td>2012.917</td>\n",
       "      <td>32.0</td>\n",
       "      <td>84.87882</td>\n",
       "      <td>10</td>\n",
       "      <td>24.98298</td>\n",
       "      <td>121.54024</td>\n",
       "      <td>NaN</td>\n",
       "    </tr>\n",
       "    <tr>\n",
       "      <th>1</th>\n",
       "      <td>2</td>\n",
       "      <td>2012.917</td>\n",
       "      <td>19.5</td>\n",
       "      <td>306.59470</td>\n",
       "      <td>9</td>\n",
       "      <td>24.98034</td>\n",
       "      <td>121.53951</td>\n",
       "      <td>42.2</td>\n",
       "    </tr>\n",
       "    <tr>\n",
       "      <th>2</th>\n",
       "      <td>3</td>\n",
       "      <td>2013.583</td>\n",
       "      <td>13.3</td>\n",
       "      <td>561.98450</td>\n",
       "      <td>5</td>\n",
       "      <td>24.98746</td>\n",
       "      <td>121.54391</td>\n",
       "      <td>47.3</td>\n",
       "    </tr>\n",
       "    <tr>\n",
       "      <th>3</th>\n",
       "      <td>4</td>\n",
       "      <td>2013.500</td>\n",
       "      <td>13.3</td>\n",
       "      <td>561.98450</td>\n",
       "      <td>5</td>\n",
       "      <td>24.98746</td>\n",
       "      <td>121.54391</td>\n",
       "      <td>54.8</td>\n",
       "    </tr>\n",
       "    <tr>\n",
       "      <th>4</th>\n",
       "      <td>5</td>\n",
       "      <td>2012.833</td>\n",
       "      <td>5.0</td>\n",
       "      <td>390.56840</td>\n",
       "      <td>5</td>\n",
       "      <td>24.97937</td>\n",
       "      <td>121.54245</td>\n",
       "      <td>43.1</td>\n",
       "    </tr>\n",
       "    <tr>\n",
       "      <th>...</th>\n",
       "      <td>...</td>\n",
       "      <td>...</td>\n",
       "      <td>...</td>\n",
       "      <td>...</td>\n",
       "      <td>...</td>\n",
       "      <td>...</td>\n",
       "      <td>...</td>\n",
       "      <td>...</td>\n",
       "    </tr>\n",
       "    <tr>\n",
       "      <th>413</th>\n",
       "      <td>410</td>\n",
       "      <td>2013.000</td>\n",
       "      <td>13.7</td>\n",
       "      <td>4082.01500</td>\n",
       "      <td>0</td>\n",
       "      <td>24.94155</td>\n",
       "      <td>121.50381</td>\n",
       "      <td>15.4</td>\n",
       "    </tr>\n",
       "    <tr>\n",
       "      <th>414</th>\n",
       "      <td>411</td>\n",
       "      <td>2012.667</td>\n",
       "      <td>5.6</td>\n",
       "      <td>90.45606</td>\n",
       "      <td>9</td>\n",
       "      <td>24.97433</td>\n",
       "      <td>121.54310</td>\n",
       "      <td>50.0</td>\n",
       "    </tr>\n",
       "    <tr>\n",
       "      <th>415</th>\n",
       "      <td>412</td>\n",
       "      <td>2013.250</td>\n",
       "      <td>18.8</td>\n",
       "      <td>390.96960</td>\n",
       "      <td>7</td>\n",
       "      <td>24.97923</td>\n",
       "      <td>121.53986</td>\n",
       "      <td>40.6</td>\n",
       "    </tr>\n",
       "    <tr>\n",
       "      <th>416</th>\n",
       "      <td>413</td>\n",
       "      <td>2013.000</td>\n",
       "      <td>8.1</td>\n",
       "      <td>104.81010</td>\n",
       "      <td>5</td>\n",
       "      <td>24.96674</td>\n",
       "      <td>121.54067</td>\n",
       "      <td>52.5</td>\n",
       "    </tr>\n",
       "    <tr>\n",
       "      <th>417</th>\n",
       "      <td>414</td>\n",
       "      <td>2013.500</td>\n",
       "      <td>6.5</td>\n",
       "      <td>90.45606</td>\n",
       "      <td>9</td>\n",
       "      <td>24.97433</td>\n",
       "      <td>121.54310</td>\n",
       "      <td>63.9</td>\n",
       "    </tr>\n",
       "  </tbody>\n",
       "</table>\n",
       "<p>418 rows × 8 columns</p>\n",
       "</div>"
      ],
      "text/plain": [
       "      No  transaction  houseAge  distanceToNearestMRTstation  \\\n",
       "0      1     2012.917      32.0                     84.87882   \n",
       "1      2     2012.917      19.5                    306.59470   \n",
       "2      3     2013.583      13.3                    561.98450   \n",
       "3      4     2013.500      13.3                    561.98450   \n",
       "4      5     2012.833       5.0                    390.56840   \n",
       "..   ...          ...       ...                          ...   \n",
       "413  410     2013.000      13.7                   4082.01500   \n",
       "414  411     2012.667       5.6                     90.45606   \n",
       "415  412     2013.250      18.8                    390.96960   \n",
       "416  413     2013.000       8.1                    104.81010   \n",
       "417  414     2013.500       6.5                     90.45606   \n",
       "\n",
       "     numberOfConvenienceStores  latitude  longitude  housePriceOfUnitArea  \n",
       "0                           10  24.98298  121.54024                   NaN  \n",
       "1                            9  24.98034  121.53951                  42.2  \n",
       "2                            5  24.98746  121.54391                  47.3  \n",
       "3                            5  24.98746  121.54391                  54.8  \n",
       "4                            5  24.97937  121.54245                  43.1  \n",
       "..                         ...       ...        ...                   ...  \n",
       "413                          0  24.94155  121.50381                  15.4  \n",
       "414                          9  24.97433  121.54310                  50.0  \n",
       "415                          7  24.97923  121.53986                  40.6  \n",
       "416                          5  24.96674  121.54067                  52.5  \n",
       "417                          9  24.97433  121.54310                  63.9  \n",
       "\n",
       "[418 rows x 8 columns]"
      ]
     },
     "execution_count": 17,
     "metadata": {},
     "output_type": "execute_result"
    }
   ],
   "source": [
    "data"
   ]
  },
  {
   "cell_type": "code",
   "execution_count": 18,
   "id": "ad9d0202",
   "metadata": {},
   "outputs": [
    {
     "name": "stderr",
     "output_type": "stream",
     "text": [
      "C:\\Users\\carol\\AppData\\Local\\Temp\\ipykernel_19600\\1877620786.py:1: UserWarning: Pandas doesn't allow columns to be created via a new attribute name - see https://pandas.pydata.org/pandas-docs/stable/indexing.html#attribute-access\n",
      "  data.HouseAge = minmax\n"
     ]
    }
   ],
   "source": [
    "data.HouseAge = minmax"
   ]
  },
  {
   "cell_type": "code",
   "execution_count": 19,
   "id": "7c99957f",
   "metadata": {},
   "outputs": [],
   "source": [
    "data.houseAge = minmax"
   ]
  },
  {
   "cell_type": "code",
   "execution_count": 21,
   "id": "4968df8f",
   "metadata": {},
   "outputs": [],
   "source": [
    "data['houseAgeStandardized'] = norm"
   ]
  },
  {
   "cell_type": "code",
   "execution_count": 22,
   "id": "c6cde045",
   "metadata": {},
   "outputs": [
    {
     "name": "stderr",
     "output_type": "stream",
     "text": [
      "C:\\Users\\carol\\AppData\\Local\\Temp\\ipykernel_19600\\2295043221.py:1: UserWarning: Pandas doesn't allow columns to be created via a new attribute name - see https://pandas.pydata.org/pandas-docs/stable/indexing.html#attribute-access\n",
      "  data.new_column = norm\n"
     ]
    }
   ],
   "source": [
    "data.new_column = norm"
   ]
  },
  {
   "cell_type": "code",
   "execution_count": 23,
   "id": "c8b2f549",
   "metadata": {},
   "outputs": [
    {
     "data": {
      "text/html": [
       "<div>\n",
       "<style scoped>\n",
       "    .dataframe tbody tr th:only-of-type {\n",
       "        vertical-align: middle;\n",
       "    }\n",
       "\n",
       "    .dataframe tbody tr th {\n",
       "        vertical-align: top;\n",
       "    }\n",
       "\n",
       "    .dataframe thead th {\n",
       "        text-align: right;\n",
       "    }\n",
       "</style>\n",
       "<table border=\"1\" class=\"dataframe\">\n",
       "  <thead>\n",
       "    <tr style=\"text-align: right;\">\n",
       "      <th></th>\n",
       "      <th>No</th>\n",
       "      <th>transaction</th>\n",
       "      <th>houseAge</th>\n",
       "      <th>distanceToNearestMRTstation</th>\n",
       "      <th>numberOfConvenienceStores</th>\n",
       "      <th>latitude</th>\n",
       "      <th>longitude</th>\n",
       "      <th>housePriceOfUnitArea</th>\n",
       "      <th>standardized_houseAge</th>\n",
       "      <th>houseAgeStandardized</th>\n",
       "    </tr>\n",
       "  </thead>\n",
       "  <tbody>\n",
       "    <tr>\n",
       "      <th>0</th>\n",
       "      <td>1</td>\n",
       "      <td>2012.917</td>\n",
       "      <td>0.730594</td>\n",
       "      <td>84.87882</td>\n",
       "      <td>10</td>\n",
       "      <td>24.98298</td>\n",
       "      <td>121.54024</td>\n",
       "      <td>NaN</td>\n",
       "      <td>1.258245</td>\n",
       "      <td>1.258245</td>\n",
       "    </tr>\n",
       "    <tr>\n",
       "      <th>1</th>\n",
       "      <td>2</td>\n",
       "      <td>2012.917</td>\n",
       "      <td>0.445205</td>\n",
       "      <td>306.59470</td>\n",
       "      <td>9</td>\n",
       "      <td>24.98034</td>\n",
       "      <td>121.53951</td>\n",
       "      <td>42.2</td>\n",
       "      <td>0.164474</td>\n",
       "      <td>0.164474</td>\n",
       "    </tr>\n",
       "    <tr>\n",
       "      <th>2</th>\n",
       "      <td>3</td>\n",
       "      <td>2013.583</td>\n",
       "      <td>0.303653</td>\n",
       "      <td>561.98450</td>\n",
       "      <td>5</td>\n",
       "      <td>24.98746</td>\n",
       "      <td>121.54391</td>\n",
       "      <td>47.3</td>\n",
       "      <td>-0.378037</td>\n",
       "      <td>-0.378037</td>\n",
       "    </tr>\n",
       "    <tr>\n",
       "      <th>3</th>\n",
       "      <td>4</td>\n",
       "      <td>2013.500</td>\n",
       "      <td>0.303653</td>\n",
       "      <td>561.98450</td>\n",
       "      <td>5</td>\n",
       "      <td>24.98746</td>\n",
       "      <td>121.54391</td>\n",
       "      <td>54.8</td>\n",
       "      <td>-0.378037</td>\n",
       "      <td>-0.378037</td>\n",
       "    </tr>\n",
       "    <tr>\n",
       "      <th>4</th>\n",
       "      <td>5</td>\n",
       "      <td>2012.833</td>\n",
       "      <td>0.114155</td>\n",
       "      <td>390.56840</td>\n",
       "      <td>5</td>\n",
       "      <td>24.97937</td>\n",
       "      <td>121.54245</td>\n",
       "      <td>43.1</td>\n",
       "      <td>-1.104301</td>\n",
       "      <td>-1.104301</td>\n",
       "    </tr>\n",
       "  </tbody>\n",
       "</table>\n",
       "</div>"
      ],
      "text/plain": [
       "   No  transaction  houseAge  distanceToNearestMRTstation  \\\n",
       "0   1     2012.917  0.730594                     84.87882   \n",
       "1   2     2012.917  0.445205                    306.59470   \n",
       "2   3     2013.583  0.303653                    561.98450   \n",
       "3   4     2013.500  0.303653                    561.98450   \n",
       "4   5     2012.833  0.114155                    390.56840   \n",
       "\n",
       "   numberOfConvenienceStores  latitude  longitude  housePriceOfUnitArea  \\\n",
       "0                         10  24.98298  121.54024                   NaN   \n",
       "1                          9  24.98034  121.53951                  42.2   \n",
       "2                          5  24.98746  121.54391                  47.3   \n",
       "3                          5  24.98746  121.54391                  54.8   \n",
       "4                          5  24.97937  121.54245                  43.1   \n",
       "\n",
       "   standardized_houseAge  houseAgeStandardized  \n",
       "0               1.258245              1.258245  \n",
       "1               0.164474              0.164474  \n",
       "2              -0.378037             -0.378037  \n",
       "3              -0.378037             -0.378037  \n",
       "4              -1.104301             -1.104301  "
      ]
     },
     "execution_count": 23,
     "metadata": {},
     "output_type": "execute_result"
    }
   ],
   "source": [
    "data.head()"
   ]
  },
  {
   "cell_type": "code",
   "execution_count": null,
   "id": "e7828e6d",
   "metadata": {},
   "outputs": [],
   "source": []
  }
 ],
 "metadata": {
  "kernelspec": {
   "display_name": "Python 3 (ipykernel)",
   "language": "python",
   "name": "python3"
  },
  "language_info": {
   "codemirror_mode": {
    "name": "ipython",
    "version": 3
   },
   "file_extension": ".py",
   "mimetype": "text/x-python",
   "name": "python",
   "nbconvert_exporter": "python",
   "pygments_lexer": "ipython3",
   "version": "3.9.12"
  }
 },
 "nbformat": 4,
 "nbformat_minor": 5
}
